{
 "cells": [
  {
   "cell_type": "code",
   "execution_count": 11,
   "metadata": {
    "ExecuteTime": {
     "end_time": "2021-04-04T09:23:17.672256Z",
     "start_time": "2021-04-04T09:23:17.468211Z"
    }
   },
   "outputs": [],
   "source": [
    "import numpy as np\n",
    "import scipy.linalg"
   ]
  },
  {
   "cell_type": "code",
   "execution_count": 2,
   "metadata": {
    "ExecuteTime": {
     "end_time": "2021-04-04T09:14:04.208474Z",
     "start_time": "2021-04-04T09:14:04.163463Z"
    }
   },
   "outputs": [
    {
     "name": "stdout",
     "output_type": "stream",
     "text": [
      "ранг матрицы А: 3\n",
      "ранг расширенной матрицы А: 3\n"
     ]
    }
   ],
   "source": [
    "# К задаче 2а (часть 1)\n",
    "A = np.array([[3, -1, 1], [2, -5, -3], [1, 1, -1]])\n",
    "A_ex = np.array([[3, -1, 1, 4], [2, -5, -3, -17], [1, 1, -1, 0]])\n",
    "rank_A = np.linalg.matrix_rank(A)\n",
    "rank_A_ex = np.linalg.matrix_rank(A_ex)\n",
    "print(f'ранг матрицы А: {rank_A}',\n",
    "      f'ранг расширенной матрицы А: {rank_A_ex}', sep='\\n')"
   ]
  },
  {
   "cell_type": "code",
   "execution_count": 3,
   "metadata": {
    "ExecuteTime": {
     "end_time": "2021-04-04T09:14:04.240490Z",
     "start_time": "2021-04-04T09:14:04.211475Z"
    }
   },
   "outputs": [
    {
     "name": "stdout",
     "output_type": "stream",
     "text": [
      "ранг матрицы А: 1\n",
      "ранг расширенной матрицы А: 2\n"
     ]
    }
   ],
   "source": [
    "# К задаче 2б (часть 1)\n",
    "A = np.array([[2, -4, 6], [1, -2, 3], [3, -6, 9]])\n",
    "A_ex = np.array([[2, -4, 6, 1], [1, -2, 3, -2], [3, -6, 9, 5]])\n",
    "rank_A = np.linalg.matrix_rank(A)\n",
    "rank_A_ex = np.linalg.matrix_rank(A_ex)\n",
    "print(f'ранг матрицы А: {rank_A}',\n",
    "      f'ранг расширенной матрицы А: {rank_A_ex}', sep='\\n')"
   ]
  },
  {
   "cell_type": "code",
   "execution_count": 4,
   "metadata": {
    "ExecuteTime": {
     "end_time": "2021-04-04T09:14:04.255631Z",
     "start_time": "2021-04-04T09:14:04.242492Z"
    }
   },
   "outputs": [
    {
     "name": "stdout",
     "output_type": "stream",
     "text": [
      "ранг матрицы А: 2\n",
      "ранг расширенной матрицы А: 2\n"
     ]
    }
   ],
   "source": [
    "# К задаче 2в (часть 1)\n",
    "A = np.array([[1, 2, 5], [3, 1, -8]])\n",
    "A_ex = np.array([[1, 2, 5, 4], [3, 1, -8, -2]])\n",
    "rank_A = np.linalg.matrix_rank(A)\n",
    "rank_A_ex = np.linalg.matrix_rank(A_ex)\n",
    "print(f'ранг матрицы А: {rank_A}',\n",
    "      f'ранг расширенной матрицы А: {rank_A_ex}', sep='\\n')"
   ]
  },
  {
   "cell_type": "code",
   "execution_count": 7,
   "metadata": {
    "ExecuteTime": {
     "end_time": "2021-04-04T09:19:04.678904Z",
     "start_time": "2021-04-04T09:19:04.665890Z"
    }
   },
   "outputs": [
    {
     "name": "stdout",
     "output_type": "stream",
     "text": [
      "ранг матрицы А: 4\n",
      "ранг расширенной матрицы А: 4\n"
     ]
    }
   ],
   "source": [
    "# К задаче 3(часть 1)\n",
    "A = np.array([[1, 3, -2, 4], [0, 5, 0, 1], [0, 0, 3, 0], [0, 0, 0, 2]])\n",
    "A_ex = np.array([[1, 3, -2, 4, 3], [0, 5, 0, 1, 2],\n",
    "                 [0, 0, 3, 0, 4], [0, 0, 0, 2, 1]])\n",
    "rank_A = np.linalg.matrix_rank(A)\n",
    "rank_A_ex = np.linalg.matrix_rank(A_ex)\n",
    "print(f'ранг матрицы А: {rank_A}',\n",
    "      f'ранг расширенной матрицы А: {rank_A_ex}', sep='\\n')"
   ]
  },
  {
   "cell_type": "markdown",
   "metadata": {},
   "source": [
    "****************************************************************************************************************************\n",
    "# ЧАСТЬ 2"
   ]
  },
  {
   "cell_type": "code",
   "execution_count": 10,
   "metadata": {
    "ExecuteTime": {
     "end_time": "2021-04-04T09:20:52.270189Z",
     "start_time": "2021-04-04T09:20:52.256186Z"
    },
    "scrolled": true
   },
   "outputs": [
    {
     "name": "stdout",
     "output_type": "stream",
     "text": [
      "определитель матрицы А: 43\n",
      "определитель матрицы А_1: 86, x_1 = 2\n",
      "определитель матрицы А_2: -43, x_2 = -1\n",
      "определитель матрицы А_3: 43, x_3 = 1\n"
     ]
    }
   ],
   "source": [
    "# задача 1 б) - часть 2\n",
    "A = np.array([[2, -1, 5], [1, 1, -3], [2, 4, 1]])\n",
    "A_1 = np.array([[10, -1, 5], [-2, 1, -3], [1, 4, 1]])\n",
    "A_2 = np.array([[2, 10, 5], [1, -2, -3], [2, 1, 1]])\n",
    "A_3 = np.array([[2, -1, 10], [1, 1, -2], [2, 4, 1]])\n",
    "\n",
    "detA = round(np.linalg.det(A))\n",
    "detA_1 = round(np.linalg.det(A_1))\n",
    "detA_2 = round(np.linalg.det(A_2))\n",
    "detA_3 = round(np.linalg.det(A_3))\n",
    "\n",
    "x_1 = round(detA_1/detA)\n",
    "x_2 = round(detA_2/detA)\n",
    "x_3 = round(detA_3/detA)\n",
    "\n",
    "print(f'определитель матрицы А: {detA}')\n",
    "print(f'определитель матрицы А_1: {detA_1}, x_1 = {x_1}')\n",
    "print(f'определитель матрицы А_2: {detA_2}, x_2 = {x_2}')\n",
    "print(f'определитель матрицы А_3: {detA_3}, x_3 = {x_3}')"
   ]
  },
  {
   "cell_type": "code",
   "execution_count": 15,
   "metadata": {
    "ExecuteTime": {
     "end_time": "2021-04-04T09:29:07.180234Z",
     "start_time": "2021-04-04T09:29:07.162221Z"
    }
   },
   "outputs": [
    {
     "name": "stdout",
     "output_type": "stream",
     "text": [
      "[[ 3.         26.         30.        ]\n",
      " [ 0.66666667 -8.33333333 -8.        ]\n",
      " [ 0.33333333  0.8         0.4       ]]\n",
      "\n",
      "[2 1 2]\n"
     ]
    }
   ],
   "source": [
    "# к задаче 2 а\n",
    "# из-за особенностей алгоритма расчета в python (выбора ведущих элементов)\n",
    "# результаты формирования матрицы LU могут не совпадать с тем, что в pdf\n",
    "# и собсвенно не совпадают\n",
    "\n",
    "A = np.array([[1, 2, 4], [2, 9, 12], [3, 26, 30]])\n",
    "lu, p = scipy.linalg.lu_factor(A)\n",
    "print(lu, p, sep='\\n\\n')"
   ]
  },
  {
   "cell_type": "code",
   "execution_count": 16,
   "metadata": {
    "ExecuteTime": {
     "end_time": "2021-04-04T09:36:44.075274Z",
     "start_time": "2021-04-04T09:36:44.056269Z"
    }
   },
   "outputs": [
    {
     "name": "stdout",
     "output_type": "stream",
     "text": [
      "[[  4.          22.          53.          33.        ]\n",
      " [  0.5         -6.         -18.5         -7.5       ]\n",
      " [  0.75        -0.25       -15.375       -8.625     ]\n",
      " [  0.25         0.75        -0.17073171  -0.09756098]]\n",
      "\n",
      "[3 1 2 3]\n"
     ]
    }
   ],
   "source": [
    "# к задаче 2 б\n",
    "\n",
    "A = np.array([[1, 1, 2, 4], [2, 5, 8, 9], [3, 18, 29, 18], [4, 22, 53, 33]])\n",
    "lu, p = scipy.linalg.lu_factor(A)\n",
    "print(lu, p, sep='\\n\\n')"
   ]
  },
  {
   "cell_type": "code",
   "execution_count": 22,
   "metadata": {
    "ExecuteTime": {
     "end_time": "2021-04-04T09:48:22.300298Z",
     "start_time": "2021-04-04T09:48:22.280281Z"
    }
   },
   "outputs": [
    {
     "name": "stdout",
     "output_type": "stream",
     "text": [
      "матрица LU:\n",
      "[[11.          7.          5.        ]\n",
      " [ 0.81818182  2.27272727 -0.09090909]\n",
      " [ 0.18181818 -0.12        2.08      ]]\n",
      "\n",
      "pivot: [1 2 2]\n",
      "\n",
      "x методом LU-разложения scipy:\n",
      " [-1.  0.  1.]\n",
      "\n",
      "проверка x:\n",
      " [-1.  0.  1.]\n",
      "\n"
     ]
    }
   ],
   "source": [
    "A = np.array([[2, 1, 3], [11, 7, 5], [9, 8, 4]])\n",
    "b = np.array([1, -6, -5])\n",
    "lu, p = scipy.linalg.lu_factor(A)\n",
    "print(f'матрица LU:\\n{lu}', f'pivot: {p}\\n', sep='\\n\\n')\n",
    "x = scipy.linalg.lu_solve((lu, p), b)\n",
    "print(f'x методом LU-разложения scipy:\\n {x}\\n')"
   ]
  },
  {
   "cell_type": "code",
   "execution_count": 24,
   "metadata": {
    "ExecuteTime": {
     "end_time": "2021-04-04T09:53:39.250016Z",
     "start_time": "2021-04-04T09:53:39.235013Z"
    }
   },
   "outputs": [
    {
     "name": "stdout",
     "output_type": "stream",
     "text": [
      "методом Холецкого x:\n",
      " [ 6. -5. -4.]\n",
      "\n"
     ]
    }
   ],
   "source": [
    "# задача 4 метод холецкого\n",
    "A = np.array([[81, -45, 45], [-45, 50, -15], [45, -15, 38]])\n",
    "b = np.array([531, -460, 193])\n",
    "\n",
    "L = scipy.linalg.cho_factor(A)\n",
    "x = scipy.linalg.cho_solve(L, b)\n",
    "print(f'методом Холецкого x:\\n {x}\\n')"
   ]
  }
 ],
 "metadata": {
  "kernelspec": {
   "display_name": "Python 3",
   "language": "python",
   "name": "python3"
  },
  "language_info": {
   "codemirror_mode": {
    "name": "ipython",
    "version": 3
   },
   "file_extension": ".py",
   "mimetype": "text/x-python",
   "name": "python",
   "nbconvert_exporter": "python",
   "pygments_lexer": "ipython3",
   "version": "3.8.5"
  },
  "toc": {
   "base_numbering": 1,
   "nav_menu": {},
   "number_sections": true,
   "sideBar": true,
   "skip_h1_title": false,
   "title_cell": "Table of Contents",
   "title_sidebar": "Contents",
   "toc_cell": false,
   "toc_position": {},
   "toc_section_display": true,
   "toc_window_display": false
  },
  "varInspector": {
   "cols": {
    "lenName": 16,
    "lenType": 16,
    "lenVar": 40
   },
   "kernels_config": {
    "python": {
     "delete_cmd_postfix": "",
     "delete_cmd_prefix": "del ",
     "library": "var_list.py",
     "varRefreshCmd": "print(var_dic_list())"
    },
    "r": {
     "delete_cmd_postfix": ") ",
     "delete_cmd_prefix": "rm(",
     "library": "var_list.r",
     "varRefreshCmd": "cat(var_dic_list()) "
    }
   },
   "types_to_exclude": [
    "module",
    "function",
    "builtin_function_or_method",
    "instance",
    "_Feature"
   ],
   "window_display": false
  }
 },
 "nbformat": 4,
 "nbformat_minor": 4
}
