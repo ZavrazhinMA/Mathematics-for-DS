{
 "cells": [
  {
   "cell_type": "code",
   "execution_count": 1,
   "metadata": {
    "ExecuteTime": {
     "end_time": "2021-03-27T10:54:21.608403Z",
     "start_time": "2021-03-27T10:54:21.451350Z"
    }
   },
   "outputs": [],
   "source": [
    "import numpy as np\n",
    "import math"
   ]
  },
  {
   "cell_type": "markdown",
   "metadata": {},
   "source": [
    "__2.__ Найти сумму и произведение матриц $A=\\begin{pmatrix}\n",
    "1 & -2\\\\ \n",
    "3 & 0\n",
    "\\end{pmatrix}$ и $B=\\begin{pmatrix}\n",
    "4 & -1\\\\ \n",
    "0 & 5\n",
    "\\end{pmatrix}.$"
   ]
  },
  {
   "cell_type": "code",
   "execution_count": 2,
   "metadata": {
    "ExecuteTime": {
     "end_time": "2021-03-27T10:54:21.624389Z",
     "start_time": "2021-03-27T10:54:21.612386Z"
    }
   },
   "outputs": [
    {
     "name": "stdout",
     "output_type": "stream",
     "text": [
      "Сумма матриц A и B:\n",
      "[[ 5 -3]\n",
      " [ 3  5]]\n",
      " ____________________________________________________________________________________________________\n",
      "Произведение матрицы A и B(метод .dot):\n",
      "[[  4 -11]\n",
      " [ 12  -3]]\n",
      "Произведение матрицы A и B(метод np.dot):\n",
      "[[  4 -11]\n",
      " [ 12  -3]]\n",
      "Произведение матрицы A и B(метод np.matmul):\n",
      "[[  4 -11]\n",
      " [ 12  -3]]\n",
      " ____________________________________________________________________________________________________\n",
      "Произведение матрицы B и А(метод .dot):\n",
      "[[ 1 -8]\n",
      " [15  0]]\n"
     ]
    }
   ],
   "source": [
    "A = np.array([[1, -2], [3, 0]])\n",
    "B = np.array([[4, -1], [0, 5]])\n",
    "AB_sum = A + B\n",
    "print(f'Сумма матриц A и B:\\n{AB_sum}\\n', \"_\"*100)\n",
    "AB_mul = A.dot(B)\n",
    "print(f'Произведение матрицы A и B(метод .dot):\\n{AB_mul}')\n",
    "AB_mul = np.dot(A, B)\n",
    "print(f'Произведение матрицы A и B(метод np.dot):\\n{AB_mul}')\n",
    "AB_mul = np.matmul(A, B)\n",
    "print(f'Произведение матрицы A и B(метод np.matmul):\\n{AB_mul}\\n', \"_\"*100)\n",
    "BA_mul = np.dot(B, A)\n",
    "print(f'Произведение матрицы B и А(метод .dot):\\n{BA_mul}')"
   ]
  },
  {
   "cell_type": "markdown",
   "metadata": {},
   "source": [
    "__3.__ Из закономерностей сложения и умножения матриц на число можно сделать вывод, что матрицы одного размера образуют линейное пространство. Вычислить линейную комбинацию $3A-2B+4C$ для матриц $A=\\begin{pmatrix}\n",
    "1 & 7\\\\ \n",
    "3 & -6\n",
    "\\end{pmatrix}$, $B=\\begin{pmatrix}\n",
    "0 & 5\\\\ \n",
    "2 & -1\n",
    "\\end{pmatrix}$, $C=\\begin{pmatrix}\n",
    "2 & -4\\\\ \n",
    "1 & 1\n",
    "\\end{pmatrix}.$"
   ]
  },
  {
   "cell_type": "code",
   "execution_count": 3,
   "metadata": {
    "ExecuteTime": {
     "end_time": "2021-03-27T10:54:21.640392Z",
     "start_time": "2021-03-27T10:54:21.626389Z"
    }
   },
   "outputs": [
    {
     "name": "stdout",
     "output_type": "stream",
     "text": [
      "Линейная комбинация 3А-2В+4С для матриц А, В, С:\n",
      " [[ 11  -5]\n",
      " [  9 -12]]\n"
     ]
    }
   ],
   "source": [
    "A = np.matrix([[1, 7], [3, -6]])\n",
    "B = np.matrix([[0, 5], [2, -1]])\n",
    "C = np.matrix([[2, -4], [1, 1]])\n",
    "result = 3*A - 2*B + 4*C\n",
    "print(f'Линейная комбинация 3А-2В+4С для матриц А, В, С:\\n {result}')"
   ]
  },
  {
   "cell_type": "markdown",
   "metadata": {},
   "source": [
    "__4.__ Дана матрица $A=\\begin{pmatrix}\n",
    "4 & 1\\\\ \n",
    "5 & -2\\\\ \n",
    "2 & 3\n",
    "\\end{pmatrix}$.\n",
    "Вычислить $AA^{T}$ и $A^{T}A$."
   ]
  },
  {
   "cell_type": "code",
   "execution_count": 4,
   "metadata": {
    "ExecuteTime": {
     "end_time": "2021-03-27T10:54:21.656396Z",
     "start_time": "2021-03-27T10:54:21.642393Z"
    }
   },
   "outputs": [
    {
     "name": "stdout",
     "output_type": "stream",
     "text": [
      "произведение матрицы А на транспонированную А\n",
      "[[17 18 11]\n",
      " [18 29  4]\n",
      " [11  4 13]]\n",
      "\n",
      "\n",
      "произведение транспонированной матрицы А на А\n",
      "[[45  0]\n",
      " [ 0 14]]\n"
     ]
    }
   ],
   "source": [
    "A = np.array([[4, 1], [5, -2], [2, 3]])\n",
    "print(f'произведение матрицы А на транспонированную А\\n{A.dot(A.T)}')\n",
    "print('\\n')\n",
    "print(f'произведение транспонированной матрицы А на А\\n{(A.T).dot(A)}')"
   ]
  },
  {
   "cell_type": "markdown",
   "metadata": {},
   "source": [
    "__5*.__ Написать на Python функцию для перемножения двух произвольных матриц, не используя NumPy."
   ]
  },
  {
   "cell_type": "code",
   "execution_count": 5,
   "metadata": {
    "ExecuteTime": {
     "end_time": "2021-03-27T10:54:21.672399Z",
     "start_time": "2021-03-27T10:54:21.657396Z"
    }
   },
   "outputs": [
    {
     "name": "stdout",
     "output_type": "stream",
     "text": [
      "[[ 4  1 18]\n",
      " [ 5 -2  4]\n",
      " [ 2  3  7]]\n",
      "\n",
      "[[ 4  1  5  9]\n",
      " [ 5  2  8 11]\n",
      " [ 5 12  8  1]]\n",
      "\n",
      "[[4 1 5]\n",
      " [5 2 8]]\n"
     ]
    }
   ],
   "source": [
    "# смысл был написать алгоритм перемножения матриц, а не полный отказ от numpy,\n",
    "# поэтому на вход подаются матрицы numpy изключительно для нормального отображения матриц при выводе в print()\n",
    "# функция будет работать и в случае подачи на вход список списков (если требование не использовать numpy в коде принципиальное)\n",
    "A = np.array([[4, 1, 18], [5, -2, 4], [2, 3, 7]])\n",
    "B = np.array([[4, 1, 5, 9], [5, 2, 8, 11],  [5, 12, 8, 1]])\n",
    "С = np.array([[4, 1, 5], [5, 2, 8]])\n",
    "print(A, B, С, sep='\\n\\n')"
   ]
  },
  {
   "cell_type": "code",
   "execution_count": 6,
   "metadata": {
    "ExecuteTime": {
     "end_time": "2021-03-27T10:54:21.688413Z",
     "start_time": "2021-03-27T10:54:21.675410Z"
    }
   },
   "outputs": [],
   "source": [
    "def matrix_multiplication(A, B):\n",
    "    result = []\n",
    "    if len(A[0]) == len(B):\n",
    "        for i in range(len(A)):\n",
    "            result_row = []\n",
    "            for j in range(len(A[0])):\n",
    "                temp_row = []\n",
    "                for k in range(len(B[0])):\n",
    "                    temp_row.append(A[i, j]*B[j, k])\n",
    "                if not result_row:\n",
    "                    result_row = temp_row\n",
    "                else:\n",
    "                    result_row = [x+y for x, y in zip(result_row, temp_row)]\n",
    "            result.append(result_row)\n",
    "        print(np.array(result))\n",
    "    else:\n",
    "        print(\n",
    "            f\"операция не может быть осуществлена т.к. число столбцов матрицы А ({len(A[0])}) не равно числу строк матрицы В ({len(B)})\")"
   ]
  },
  {
   "cell_type": "code",
   "execution_count": 7,
   "metadata": {
    "ExecuteTime": {
     "end_time": "2021-03-27T10:54:21.704416Z",
     "start_time": "2021-03-27T10:54:21.690404Z"
    }
   },
   "outputs": [
    {
     "name": "stdout",
     "output_type": "stream",
     "text": [
      "операция не может быть осуществлена т.к. число столбцов матрицы А (3) не равно числу строк матрицы В (2)\n"
     ]
    }
   ],
   "source": [
    "matrix_multiplication(A, C)"
   ]
  },
  {
   "cell_type": "code",
   "execution_count": 8,
   "metadata": {
    "ExecuteTime": {
     "end_time": "2021-03-27T10:54:21.720420Z",
     "start_time": "2021-03-27T10:54:21.705407Z"
    }
   },
   "outputs": [
    {
     "name": "stdout",
     "output_type": "stream",
     "text": [
      "[[111 222 172  65]\n",
      " [ 30  49  41  27]\n",
      " [ 58  92  90  58]]\n"
     ]
    }
   ],
   "source": [
    "matrix_multiplication(A, B)"
   ]
  },
  {
   "cell_type": "code",
   "execution_count": 9,
   "metadata": {
    "ExecuteTime": {
     "end_time": "2021-03-27T10:54:21.736413Z",
     "start_time": "2021-03-27T10:54:21.722411Z"
    },
    "scrolled": true
   },
   "outputs": [
    {
     "data": {
      "text/plain": [
       "array([[111, 222, 172,  65],\n",
       "       [ 30,  49,  41,  27],\n",
       "       [ 58,  92,  90,  58]])"
      ]
     },
     "execution_count": 9,
     "metadata": {},
     "output_type": "execute_result"
    }
   ],
   "source": [
    "A.dot(B)  # проверка работы функции"
   ]
  },
  {
   "cell_type": "markdown",
   "metadata": {},
   "source": [
    "***************************************************************************************************************************"
   ]
  },
  {
   "cell_type": "markdown",
   "metadata": {},
   "source": [
    "Все задания рекомендуется выполнять вручную, затем проверяя полученные результаты с использованием Numpy.\n",
    "\n",
    "__1.__ Вычислить определитель:\n",
    "\n",
    "   a)\n",
    "\n",
    "$$\\begin{vmatrix}\n",
    "sinx & -cosx\\\\ \n",
    "cosx & sinx\n",
    "\\end{vmatrix};$$"
   ]
  },
  {
   "cell_type": "code",
   "execution_count": 10,
   "metadata": {
    "ExecuteTime": {
     "end_time": "2021-03-27T10:54:21.752427Z",
     "start_time": "2021-03-27T10:54:21.738414Z"
    }
   },
   "outputs": [
    {
     "data": {
      "text/plain": [
       "1.0"
      ]
     },
     "execution_count": 10,
     "metadata": {},
     "output_type": "execute_result"
    }
   ],
   "source": [
    "x = 0  # любое значение\n",
    "A = np.array([[math.sin(x), -math.cos(x)], [math.cos(x), math.sin(x)]])\n",
    "detA = np.linalg.det(A)\n",
    "detA"
   ]
  },
  {
   "cell_type": "markdown",
   "metadata": {},
   "source": [
    "   б)\n",
    "    \n",
    "$$\\begin{vmatrix}\n",
    "4 & 2 & 3\\\\ \n",
    "0 & 5 & 1\\\\ \n",
    "0 & 0 & 9\n",
    "\\end{vmatrix};$$"
   ]
  },
  {
   "cell_type": "code",
   "execution_count": 11,
   "metadata": {
    "ExecuteTime": {
     "end_time": "2021-03-27T10:54:21.768421Z",
     "start_time": "2021-03-27T10:54:21.753417Z"
    }
   },
   "outputs": [
    {
     "data": {
      "text/plain": [
       "180.0"
      ]
     },
     "execution_count": 11,
     "metadata": {},
     "output_type": "execute_result"
    }
   ],
   "source": [
    "A = np.array([[4, 2, 3], [0, 5, 1], [0, 0, 9]])\n",
    "detA = np.linalg.det(A)\n",
    "detA"
   ]
  },
  {
   "cell_type": "markdown",
   "metadata": {},
   "source": [
    "    \n",
    "   в)\n",
    "\n",
    "$$\\begin{vmatrix}\n",
    "1 & 2 & 3\\\\ \n",
    "4 & 5 & 6\\\\ \n",
    "7 & 8 & 9\n",
    "\\end{vmatrix}.$$"
   ]
  },
  {
   "cell_type": "code",
   "execution_count": 12,
   "metadata": {
    "ExecuteTime": {
     "end_time": "2021-03-27T10:54:21.784434Z",
     "start_time": "2021-03-27T10:54:21.769421Z"
    }
   },
   "outputs": [
    {
     "data": {
      "text/plain": [
       "0"
      ]
     },
     "execution_count": 12,
     "metadata": {},
     "output_type": "execute_result"
    }
   ],
   "source": [
    "A = np.array([[1, 2, 3], [4, 5, 6], [7, 8, 9]])\n",
    "detA = round(np.linalg.det(A))\n",
    "detA"
   ]
  },
  {
   "cell_type": "markdown",
   "metadata": {},
   "source": [
    "\n",
    "__3.__  Доказать, что матрица\n",
    "\n",
    "$$\\begin{pmatrix}\n",
    "-2 & 7 & -3\\\\ \n",
    "4 & -14 & 6\\\\ \n",
    "-3 & 7 & 13\n",
    "\\end{pmatrix}$$\n",
    "   \n",
    "вырожденная."
   ]
  },
  {
   "cell_type": "code",
   "execution_count": 13,
   "metadata": {
    "ExecuteTime": {
     "end_time": "2021-03-27T10:54:21.800429Z",
     "start_time": "2021-03-27T10:54:21.785425Z"
    }
   },
   "outputs": [
    {
     "data": {
      "text/plain": [
       "0"
      ]
     },
     "execution_count": 13,
     "metadata": {},
     "output_type": "execute_result"
    }
   ],
   "source": [
    "A = np.array([[-2, 7, -3], [4, -14, 6], [-3, 7, 13]])\n",
    "detA = round(np.linalg.det(A))\n",
    "detA"
   ]
  },
  {
   "cell_type": "markdown",
   "metadata": {},
   "source": [
    "__4.__ Найти ранг матрицы:\n",
    "\n",
    "   а) $\\begin{pmatrix}\n",
    "1 & 2 & 3\\\\ \n",
    "1 & 1 & 1\\\\ \n",
    "2 & 3 & 4\n",
    "\\end{pmatrix};$"
   ]
  },
  {
   "cell_type": "code",
   "execution_count": 14,
   "metadata": {
    "ExecuteTime": {
     "end_time": "2021-03-27T10:54:21.832436Z",
     "start_time": "2021-03-27T10:54:21.801429Z"
    }
   },
   "outputs": [
    {
     "data": {
      "text/plain": [
       "2"
      ]
     },
     "execution_count": 14,
     "metadata": {},
     "output_type": "execute_result"
    }
   ],
   "source": [
    "A = np.array([[1, 2, 3], [1, 1, 1], [2, 3, 4]])\n",
    "rankA = np.linalg.matrix_rank(A)\n",
    "rankA"
   ]
  },
  {
   "cell_type": "markdown",
   "metadata": {},
   "source": [
    "   б) $\\begin{pmatrix}\n",
    "0 & 0 & 2 & 1\\\\ \n",
    "0 & 0 & 2 & 2\\\\ \n",
    "0 & 0 & 4 & 3\\\\ \n",
    "2 & 3 & 5 & 6\n",
    "\\end{pmatrix}.$"
   ]
  },
  {
   "cell_type": "code",
   "execution_count": 15,
   "metadata": {
    "ExecuteTime": {
     "end_time": "2021-03-27T10:54:21.848439Z",
     "start_time": "2021-03-27T10:54:21.834437Z"
    }
   },
   "outputs": [
    {
     "data": {
      "text/plain": [
       "3"
      ]
     },
     "execution_count": 15,
     "metadata": {},
     "output_type": "execute_result"
    }
   ],
   "source": [
    "A = np.array([[0,0,2,1],[0,0,2,2],[0,0,4,3],[2,3,5,6]])\n",
    "rankA =np.linalg.matrix_rank(A)\n",
    "rankA"
   ]
  }
 ],
 "metadata": {
  "kernelspec": {
   "display_name": "Python 3",
   "language": "python",
   "name": "python3"
  },
  "language_info": {
   "codemirror_mode": {
    "name": "ipython",
    "version": 3
   },
   "file_extension": ".py",
   "mimetype": "text/x-python",
   "name": "python",
   "nbconvert_exporter": "python",
   "pygments_lexer": "ipython3",
   "version": "3.8.5"
  },
  "toc": {
   "base_numbering": 1,
   "nav_menu": {},
   "number_sections": true,
   "sideBar": true,
   "skip_h1_title": false,
   "title_cell": "Table of Contents",
   "title_sidebar": "Contents",
   "toc_cell": false,
   "toc_position": {},
   "toc_section_display": true,
   "toc_window_display": false
  },
  "varInspector": {
   "cols": {
    "lenName": 16,
    "lenType": 16,
    "lenVar": 40
   },
   "kernels_config": {
    "python": {
     "delete_cmd_postfix": "",
     "delete_cmd_prefix": "del ",
     "library": "var_list.py",
     "varRefreshCmd": "print(var_dic_list())"
    },
    "r": {
     "delete_cmd_postfix": ") ",
     "delete_cmd_prefix": "rm(",
     "library": "var_list.r",
     "varRefreshCmd": "cat(var_dic_list()) "
    }
   },
   "types_to_exclude": [
    "module",
    "function",
    "builtin_function_or_method",
    "instance",
    "_Feature"
   ],
   "window_display": false
  }
 },
 "nbformat": 4,
 "nbformat_minor": 4
}
