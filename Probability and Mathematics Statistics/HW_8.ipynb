{
 "cells": [
  {
   "cell_type": "markdown",
   "metadata": {},
   "source": [
    "Провести **дисперсионный анализ** для определения того, есть ли различия среднего роста среди взрослых футболистов, хоккеистов и штангистов. Даны значения роста в трех группах случайно выбранных спортсменов: **Футболисты:** 173, 175, 180, 178, 177, 185, 183, 182. **Хоккеисты:** 177, 179, 180, 188, 177, 172, 171, 184, 180. **Штангисты:** 172, 173, 169, 177, 166, 180, 178, 177, 172, 166, 170. alpha = 0.05."
   ]
  },
  {
   "cell_type": "code",
   "execution_count": 14,
   "metadata": {
    "ExecuteTime": {
     "end_time": "2021-02-09T12:09:18.248032Z",
     "start_time": "2021-02-09T12:09:17.445843Z"
    }
   },
   "outputs": [],
   "source": [
    "import numpy as np\n",
    "from scipy import stats"
   ]
  },
  {
   "cell_type": "markdown",
   "metadata": {},
   "source": [
    "$$H0: \\mu_1 = \\mu_2 = \\mu_3 $$- вид спорта не влияет на рост спортсмена\n",
    "$$ H1: \\mu_1 <> \\mu_2 <> \\mu_3$$ - рост спортсмена зависит от вида спорта"
   ]
  },
  {
   "cell_type": "code",
   "execution_count": 5,
   "metadata": {
    "ExecuteTime": {
     "end_time": "2021-02-09T11:43:07.439940Z",
     "start_time": "2021-02-09T11:43:07.429947Z"
    }
   },
   "outputs": [
    {
     "name": "stdout",
     "output_type": "stream",
     "text": [
      "8,9,11,28\n"
     ]
    }
   ],
   "source": [
    "y_football = np.array([173, 175, 180, 178, 177, 185, 183, 182])\n",
    "y_hockey = np.array([177, 179, 180, 188, 177, 172, 171, 184, 180])\n",
    "y_weightlifter = np.array([172, 173, 169, 177, 166, 180, 178, 177, 172, 166, 170])\n",
    "k=3\n",
    "\n",
    "n1 = len(y_football)\n",
    "n2 = len(y_hockey)\n",
    "n3 = len(y_weightlifter)\n",
    "\n",
    "n= n1+n2+n3\n",
    "print(n1, n2, n3, n, sep=',')"
   ]
  },
  {
   "cell_type": "code",
   "execution_count": 6,
   "metadata": {
    "ExecuteTime": {
     "end_time": "2021-02-09T11:43:53.783716Z",
     "start_time": "2021-02-09T11:43:53.779725Z"
    }
   },
   "outputs": [
    {
     "name": "stdout",
     "output_type": "stream",
     "text": [
      "179.125\n",
      "178.66666666666666\n",
      "172.72727272727272\n"
     ]
    }
   ],
   "source": [
    "# средние значения по категориям\n",
    "y_football_mean = y_football.mean()\n",
    "y_hockey_mean = y_hockey.mean()\n",
    "y_weightlifter_mean = y_weightlifter.mean()\n",
    "print(y_football_mean, y_hockey_mean, y_weightlifter_mean, sep='\\n')"
   ]
  },
  {
   "cell_type": "code",
   "execution_count": 7,
   "metadata": {
    "ExecuteTime": {
     "end_time": "2021-02-09T11:45:49.259166Z",
     "start_time": "2021-02-09T11:45:49.233764Z"
    }
   },
   "outputs": [
    {
     "data": {
      "text/plain": [
       "176.46428571428572"
      ]
     },
     "execution_count": 7,
     "metadata": {},
     "output_type": "execute_result"
    }
   ],
   "source": [
    "# среднее по всем выборкам\n",
    "Y = np.hstack((y_football, y_hockey, y_weightlifter))\n",
    "Y_mean = Y.mean()\n",
    "Y_mean"
   ]
  },
  {
   "cell_type": "markdown",
   "metadata": {},
   "source": [
    "$S_F^2$ — сумма квадратов отклонений средних групповых значений от общего среднего значения $\\overline{Y}$:"
   ]
  },
  {
   "cell_type": "code",
   "execution_count": 8,
   "metadata": {
    "ExecuteTime": {
     "end_time": "2021-02-09T11:51:41.713778Z",
     "start_time": "2021-02-09T11:51:41.704785Z"
    }
   },
   "outputs": [
    {
     "data": {
      "text/plain": [
       "253.9074675324678"
      ]
     },
     "execution_count": 8,
     "metadata": {},
     "output_type": "execute_result"
    }
   ],
   "source": [
    "S2_F = (y_football_mean - Y_mean)**2 * len(y_football) + (y_hockey_mean - Y_mean)**2 * \\\n",
    "    len(y_hockey) + (y_weightlifter_mean - Y_mean)**2 * len(y_weightlifter)\n",
    "S2_F"
   ]
  },
  {
   "cell_type": "markdown",
   "metadata": {},
   "source": [
    "$S_{ост}^2$ — остаточная сумма квадратов отклонений:"
   ]
  },
  {
   "cell_type": "code",
   "execution_count": 9,
   "metadata": {
    "ExecuteTime": {
     "end_time": "2021-02-09T11:54:29.703341Z",
     "start_time": "2021-02-09T11:54:29.688339Z"
    }
   },
   "outputs": [
    {
     "data": {
      "text/plain": [
       "577.0568181818182"
      ]
     },
     "execution_count": 9,
     "metadata": {},
     "output_type": "execute_result"
    }
   ],
   "source": [
    "S2_r =((y_football - y_football_mean)**2).sum() + ((y_hockey - y_hockey_mean)**2).sum() + ((y_weightlifter - y_weightlifter_mean)**2).sum()\n",
    "S2_r"
   ]
  },
  {
   "cell_type": "markdown",
   "metadata": {},
   "source": [
    "факторная дисперсия\n",
    "$$\\sigma_{F}^{2} = \\frac{S_{F}^{2}}{k-1} = \\frac{1}{k-1}\\sum\\limits_{i=1}^{k}(\\overline{y}_i - \\overline{Y})^{2}n_i$$"
   ]
  },
  {
   "cell_type": "code",
   "execution_count": 11,
   "metadata": {
    "ExecuteTime": {
     "end_time": "2021-02-09T12:00:04.581522Z",
     "start_time": "2021-02-09T12:00:04.561503Z"
    }
   },
   "outputs": [
    {
     "data": {
      "text/plain": [
       "126.9537337662339"
      ]
     },
     "execution_count": 11,
     "metadata": {},
     "output_type": "execute_result"
    }
   ],
   "source": [
    "sigma2_F = S2_F / (k - 1)\n",
    "sigma2_F"
   ]
  },
  {
   "cell_type": "markdown",
   "metadata": {},
   "source": [
    "остаточная дисперия\n",
    "$$\\sigma_{ост}^{2} = \\frac{S_{ост}^{2}}{n - k} = \\frac{1}{n - k}\\sum\\limits_{i=1}^{k}\\sum\\limits_{j=1}^{n_i}(y_{ij} - \\overline{y}_i)^2$$"
   ]
  },
  {
   "cell_type": "code",
   "execution_count": 12,
   "metadata": {
    "ExecuteTime": {
     "end_time": "2021-02-09T12:01:53.077129Z",
     "start_time": "2021-02-09T12:01:53.064126Z"
    }
   },
   "outputs": [
    {
     "data": {
      "text/plain": [
       "23.08227272727273"
      ]
     },
     "execution_count": 12,
     "metadata": {},
     "output_type": "execute_result"
    }
   ],
   "source": [
    "sigma2_r = S2_r / (n - k)\n",
    "sigma2_r"
   ]
  },
  {
   "cell_type": "markdown",
   "metadata": {},
   "source": [
    "$$F_H = \\frac{\\sigma_{F}^{2}}{\\sigma_{ост}^{2}}$$"
   ]
  },
  {
   "cell_type": "code",
   "execution_count": 13,
   "metadata": {
    "ExecuteTime": {
     "end_time": "2021-02-09T12:03:02.099464Z",
     "start_time": "2021-02-09T12:03:02.081461Z"
    }
   },
   "outputs": [
    {
     "data": {
      "text/plain": [
       "5.500053450812598"
      ]
     },
     "execution_count": 13,
     "metadata": {},
     "output_type": "execute_result"
    }
   ],
   "source": [
    "Fn = sigma2_F/sigma2_r\n",
    "Fn"
   ]
  },
  {
   "cell_type": "markdown",
   "metadata": {},
   "source": [
    "Если уровень значимости = 0,05 (Fкр = 3,39 для df1 = k-1 = 2 df2 = n-k = 25(крит  из таблицы критических точек распределения Фишера-Снедекора для заданного уровня значимости α)), наблюдаемый критерий F = 5.5, **следовательно, различие между группами - статистически значимое**"
   ]
  },
  {
   "cell_type": "code",
   "execution_count": 16,
   "metadata": {
    "ExecuteTime": {
     "end_time": "2021-02-09T12:12:28.878865Z",
     "start_time": "2021-02-09T12:12:28.862863Z"
    }
   },
   "outputs": [
    {
     "data": {
      "text/plain": [
       "F_onewayResult(statistic=5.500053450812596, pvalue=0.010482206918698694)"
      ]
     },
     "execution_count": 16,
     "metadata": {},
     "output_type": "execute_result"
    }
   ],
   "source": [
    "# проверка (p-value< alpha)\n",
    "stats.f_oneway(y_football, y_hockey, y_weightlifter)"
   ]
  }
 ],
 "metadata": {
  "kernelspec": {
   "display_name": "Python 3",
   "language": "python",
   "name": "python3"
  },
  "language_info": {
   "codemirror_mode": {
    "name": "ipython",
    "version": 3
   },
   "file_extension": ".py",
   "mimetype": "text/x-python",
   "name": "python",
   "nbconvert_exporter": "python",
   "pygments_lexer": "ipython3",
   "version": "3.8.5"
  },
  "toc": {
   "base_numbering": 1,
   "nav_menu": {},
   "number_sections": true,
   "sideBar": true,
   "skip_h1_title": false,
   "title_cell": "Table of Contents",
   "title_sidebar": "Contents",
   "toc_cell": false,
   "toc_position": {},
   "toc_section_display": true,
   "toc_window_display": false
  },
  "varInspector": {
   "cols": {
    "lenName": 16,
    "lenType": 16,
    "lenVar": 40
   },
   "kernels_config": {
    "python": {
     "delete_cmd_postfix": "",
     "delete_cmd_prefix": "del ",
     "library": "var_list.py",
     "varRefreshCmd": "print(var_dic_list())"
    },
    "r": {
     "delete_cmd_postfix": ") ",
     "delete_cmd_prefix": "rm(",
     "library": "var_list.r",
     "varRefreshCmd": "cat(var_dic_list()) "
    }
   },
   "types_to_exclude": [
    "module",
    "function",
    "builtin_function_or_method",
    "instance",
    "_Feature"
   ],
   "window_display": false
  }
 },
 "nbformat": 4,
 "nbformat_minor": 4
}
